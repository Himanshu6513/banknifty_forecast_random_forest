{
  "nbformat": 4,
  "nbformat_minor": 0,
  "metadata": {
    "colab": {
      "provenance": []
    },
    "kernelspec": {
      "name": "python3",
      "display_name": "Python 3"
    },
    "language_info": {
      "name": "python"
    }
  },
  "cells": [
    {
      "cell_type": "code",
      "source": [
        "pip install boto3"
      ],
      "metadata": {
        "colab": {
          "base_uri": "https://localhost:8080/"
        },
        "id": "D4VF8Mrk-6H-",
        "outputId": "03f4023b-4583-44c4-bc93-129139deef44"
      },
      "execution_count": null,
      "outputs": [
        {
          "output_type": "stream",
          "name": "stdout",
          "text": [
            "Requirement already satisfied: boto3 in /usr/local/lib/python3.10/dist-packages (1.34.89)\n",
            "Requirement already satisfied: botocore<1.35.0,>=1.34.89 in /usr/local/lib/python3.10/dist-packages (from boto3) (1.34.89)\n",
            "Requirement already satisfied: jmespath<2.0.0,>=0.7.1 in /usr/local/lib/python3.10/dist-packages (from boto3) (1.0.1)\n",
            "Requirement already satisfied: s3transfer<0.11.0,>=0.10.0 in /usr/local/lib/python3.10/dist-packages (from boto3) (0.10.1)\n",
            "Requirement already satisfied: python-dateutil<3.0.0,>=2.1 in /usr/local/lib/python3.10/dist-packages (from botocore<1.35.0,>=1.34.89->boto3) (2.8.2)\n",
            "Requirement already satisfied: urllib3!=2.2.0,<3,>=1.25.4 in /usr/local/lib/python3.10/dist-packages (from botocore<1.35.0,>=1.34.89->boto3) (2.0.7)\n",
            "Requirement already satisfied: six>=1.5 in /usr/local/lib/python3.10/dist-packages (from python-dateutil<3.0.0,>=2.1->botocore<1.35.0,>=1.34.89->boto3) (1.16.0)\n"
          ]
        }
      ]
    },
    {
      "cell_type": "code",
      "source": [
        "import yfinance as yf\n",
        "import pandas as pd\n",
        "from datetime import datetime, timedelta\n",
        "import warnings\n",
        "import pytz\n",
        "import warnings\n",
        "import os\n",
        "import time\n",
        "import boto3\n",
        "warnings.filterwarnings(\"ignore\")\n",
        "import plotly.graph_objects as go\n",
        "access_key = '#AWS Access Key#'\n",
        "secret_key = '#AWS Secret Key# '\n",
        "region_id = '#AWS RegionID#'\n",
        "bucket_name = '#AWS Bucketname#'\n",
        "file_name = f'{file_in_the_bucket}.csv'\n",
        "ist = pytz.timezone('Asia/Kolkata')\n",
        "symbol_list_nifty={'HDFCBANK.NS':25.27,'ICICIBANK.NS':24.95,'SBIN.NS':12.04,'AXISBANK.NS':10.09,\n",
        "                   'KOTAKBANK.NS':9.19,'BANKBARODA.NS':3.15,'PNB.NS':2.31,'INDUSINDBK.NS':6.21,'AUBANK.NS':1.75\n",
        "                   ,'FEDERALBNK.NS':2.14,'BANDHANBNK.NS':0.94,'IDFCFIRSTB.NS':1.97}\n",
        "def calculate_percentage(row):\n",
        "  global symbol_list_nifty\n",
        "  stock = row['Stock']\n",
        "  if stock in symbol_list_nifty:\n",
        "    return symbol_list_nifty[stock]\n",
        "  else:\n",
        "    return None\n",
        "sum_of_values = sum(symbol_list_nifty.values())\n",
        "api_df = pd.DataFrame(columns=['Datetime', 'Close','Stock'])\n",
        "for symbol in symbol_list_nifty.keys():\n",
        "  end_date = datetime.now() + timedelta(days=1)\n",
        "  end_date_str = end_date.strftime('%Y-%m-%d')\n",
        "  start_date = end_date - timedelta(days=1)\n",
        "  start_date_str = start_date.strftime('%Y-%m-%d')\n",
        "  data = yf.download(symbol, interval='5m', start=start_date_str, end=end_date_str, progress=False)\n",
        "  data = data[data['Volume'] != 0]\n",
        "  data.index = data.index.tz_localize(None)\n",
        "  data.reset_index(inplace=True)\n",
        "  data=data[['Datetime','Close']]\n",
        "  data['Datetime'] += pd.Timedelta(minutes=30)\n",
        "  data['Stock']=symbol\n",
        "  api_df = pd.concat([api_df, data], ignore_index=True, axis=0)\n",
        "s3 = boto3.client('s3', aws_access_key_id=access_key,\n",
        "                  aws_secret_access_key=secret_key,\n",
        "                  region_name=region_id)\n",
        "s3.head_object(Bucket=bucket_name, Key=file_name)\n",
        "obj = s3.get_object(Bucket=bucket_name, Key=file_name)\n",
        "df = pd.read_csv(obj['Body'])\n",
        "df = df.reset_index(drop=True)\n",
        "df=df.sort_values(by='Datetime')\n",
        "df['Datetime'] = df['Datetime'].astype(str)\n",
        "df=df[df['Stock']!='RELIANCE.NS']\n",
        "api_df['Datetime'] = api_df['Datetime'].astype(str)\n",
        "final_df = pd.merge(df, api_df, on=['Datetime','Stock'], how='left')\n",
        "final_df['Percentage'] = final_df.apply(calculate_percentage, axis=1)\n",
        "final_df['Percentage']=final_df['Percentage']/sum_of_values\n",
        "final_df['Val']=(final_df['Prediction']/final_df['Close']-1)*final_df['Percentage']\n",
        "nifty_df = final_df.groupby('Datetime').agg({'Val': 'sum'}).reset_index()\n",
        "symbol='^NSEBANK'\n",
        "raw_nifty = yf.download(symbol, interval='5m', start=start_date_str, end=end_date_str, progress=False)\n",
        "raw_nifty.index = raw_nifty.index.tz_localize(None)\n",
        "raw_nifty.reset_index(inplace=True)\n",
        "raw_nifty=raw_nifty[['Datetime','Close']]\n",
        "raw_nifty['Datetime'] += pd.Timedelta(minutes=30)\n",
        "raw_nifty['Datetime'] = raw_nifty['Datetime'].astype(str)\n",
        "nifty_df=pd.merge(nifty_df, raw_nifty, on=['Datetime'], how='left')\n",
        "nifty_df['Val']=nifty_df['Val']+1\n",
        "nifty_df['Final']=nifty_df['Val']*nifty_df['Close']\n",
        "nifty_df=nifty_df[['Datetime','Final']]\n",
        "nifty_df = nifty_df.rename(columns={'Final': 'Close'})\n",
        "nifty_df['Flag']='FUTURE'\n",
        "raw_nifty['Flag']='PAST'\n",
        "nifty_df['Datetime'] = pd.to_datetime(nifty_df['Datetime'], errors='coerce')\n",
        "raw_nifty['Datetime'] = pd.to_datetime(raw_nifty['Datetime'])\n",
        "raw_nifty['Datetime'] -= pd.Timedelta(minutes=30)\n",
        "final=pd.concat([raw_nifty, nifty_df])\n",
        "current_date = datetime.now().date()#- timedelta(days=1)\n",
        "final_current_date = final[final['Datetime'].dt.date == current_date]\n",
        "final_current_date['Time'] = final_current_date['Datetime'].dt.time\n",
        "final_current_date.drop(columns=['Datetime'], inplace=True)\n",
        "fig = go.Figure()\n",
        "past_data = final_current_date[final_current_date['Flag'] == 'PAST']\n",
        "fig.add_trace(go.Scatter(x=past_data['Time'], y=past_data['Close'], mode='lines', name='PAST'))\n",
        "future_data = final_current_date[final_current_date['Flag'] == 'FUTURE']\n",
        "fig.add_trace(go.Scatter(x=future_data['Time'], y=future_data['Close'], mode='lines', name='FUTURE'))\n",
        "fig.update_layout(title='Line Chart for PAST and FUTURE Trend', xaxis_title='Time', yaxis_title='Close Price')\n",
        "fig.update_layout(\n",
        "    title='Line Chart for PAST and FUTURE Trend',\n",
        "    xaxis_title='Time',\n",
        "    yaxis_title='Close Price',\n",
        "    yaxis=dict(\n",
        "        tickformat='.2f'\n",
        "    )\n",
        ")\n",
        "fig.show()\n"
      ],
      "metadata": {
        "colab": {
          "base_uri": "https://localhost:8080/",
          "height": 542
        },
        "id": "lUn3_h7lSn0n",
        "outputId": "a6168ab1-81dd-4155-d6fc-37bff826429d"
      },
      "execution_count": null,
      "outputs": [
        {
          "output_type": "display_data",
          "data": {
            "text/html": [
              "<html>\n",
              "<head><meta charset=\"utf-8\" /></head>\n",
              "<body>\n",
              "    <div>            <script src=\"https://cdnjs.cloudflare.com/ajax/libs/mathjax/2.7.5/MathJax.js?config=TeX-AMS-MML_SVG\"></script><script type=\"text/javascript\">if (window.MathJax && window.MathJax.Hub && window.MathJax.Hub.Config) {window.MathJax.Hub.Config({SVG: {font: \"STIX-Web\"}});}</script>                <script type=\"text/javascript\">window.PlotlyConfig = {MathJaxConfig: 'local'};</script>\n",
              "        <script charset=\"utf-8\" src=\"https://cdn.plot.ly/plotly-2.24.1.min.js\"></script>                <div id=\"649101c7-dcda-4c43-8f9d-17c79ce03cae\" class=\"plotly-graph-div\" style=\"height:525px; width:100%;\"></div>            <script type=\"text/javascript\">                                    window.PLOTLYENV=window.PLOTLYENV || {};                                    if (document.getElementById(\"649101c7-dcda-4c43-8f9d-17c79ce03cae\")) {                    Plotly.newPlot(                        \"649101c7-dcda-4c43-8f9d-17c79ce03cae\",                        [{\"mode\":\"lines\",\"name\":\"PAST\",\"x\":[\"09:15:00\",\"09:20:00\",\"09:25:00\",\"09:30:00\",\"09:35:00\",\"09:40:00\",\"09:45:00\",\"09:50:00\",\"09:55:00\",\"10:00:00\",\"10:05:00\",\"10:10:00\",\"10:15:00\",\"10:20:00\",\"10:25:00\",\"10:30:00\",\"10:35:00\",\"10:40:00\",\"10:45:00\",\"10:50:00\",\"10:55:00\",\"11:00:00\",\"11:05:00\",\"11:10:00\",\"11:15:00\",\"11:20:00\",\"11:25:00\",\"11:30:00\",\"11:35:00\",\"11:40:00\",\"11:45:00\",\"11:50:00\",\"11:55:00\",\"12:00:00\",\"12:05:00\",\"12:10:00\",\"12:15:00\",\"12:20:00\",\"12:25:00\",\"12:30:00\",\"12:35:00\",\"12:40:00\",\"12:45:00\",\"12:50:00\",\"12:55:00\",\"13:00:00\",\"13:05:00\",\"13:10:00\",\"13:15:00\",\"13:20:00\",\"13:25:00\",\"13:30:00\",\"13:35:00\",\"13:40:00\",\"13:45:00\",\"13:50:00\",\"13:55:00\",\"14:00:00\",\"14:05:00\",\"14:10:00\",\"14:15:00\",\"14:20:00\",\"14:25:00\",\"14:30:00\",\"14:35:00\",\"14:40:00\",\"14:45:00\",\"14:50:00\",\"14:55:00\",\"15:00:00\",\"15:05:00\",\"15:10:00\",\"15:15:00\",\"15:20:00\",\"15:25:00\"],\"y\":[48072.30078125,48048.5,48045.25,48014.3515625,48011.44921875,48010.3515625,47960.25,47961.25,48008.1015625,48049.3984375,48057.5,48069.6015625,48059.6015625,48064.19921875,48001.75,48000.1015625,48018.19921875,47958.19921875,47943.8515625,47962.6484375,47974.25,47947.44921875,47974.3515625,47982.75,47996.19921875,48018.6015625,48015.55078125,47996.3984375,47996.69921875,48009.55078125,47984.05078125,47998.80078125,48000.44921875,47993.55078125,48017.8984375,48047.6015625,48063.44921875,48074.5,48058.69921875,48055.80078125,48060.5,48040.0,48032.19921875,48048.6484375,48051.44921875,48008.8984375,47976.1484375,47977.8515625,47912.8515625,47949.8984375,47988.30078125,47984.05078125,47990.25,47998.5,47991.80078125,47979.94921875,47986.19921875,48003.30078125,47951.1015625,47977.1484375,48012.30078125,47991.8515625,47996.05078125,47966.3515625,47974.6484375,47983.0,48031.6015625,48000.30078125,48039.69921875,48008.25,47963.6484375,48002.1015625,47990.55078125,47957.3984375,47935.6015625],\"type\":\"scatter\"},{\"mode\":\"lines\",\"name\":\"FUTURE\",\"x\":[\"11:30:00\",\"11:35:00\",\"11:40:00\",\"11:45:00\",\"11:50:00\",\"11:55:00\",\"12:00:00\",\"12:05:00\",\"12:10:00\",\"12:15:00\",\"12:20:00\",\"12:25:00\",\"12:30:00\",\"12:35:00\",\"12:40:00\",\"12:45:00\",\"12:50:00\",\"12:55:00\",\"13:00:00\",\"13:05:00\",\"13:10:00\",\"13:15:00\",\"13:20:00\",\"13:25:00\",\"13:30:00\",\"13:35:00\",\"13:40:00\",\"13:45:00\",\"13:50:00\",\"13:55:00\",\"14:00:00\",\"14:05:00\",\"14:10:00\",\"14:15:00\",\"14:20:00\",\"14:25:00\",\"14:30:00\",\"14:35:00\",\"14:40:00\",\"14:45:00\",\"14:50:00\",\"14:55:00\",\"15:00:00\",\"15:05:00\",\"15:10:00\",\"15:15:00\",\"15:20:00\",\"15:25:00\",\"15:30:00\"],\"y\":[47989.47661161787,47984.81763607721,47996.47083159374,48005.481262049274,48037.697916661826,48020.2054531661,48012.7911514592,48026.759355811264,48017.44276014275,48025.575834595795,48027.13074767418,48055.242626728264,48059.38136196721,48059.48833222363,48063.18942536167,48024.32862495528,48025.43206424561,48022.39918152105,48027.936164274484,48028.11717660921,48009.9934371006,47997.937854367716,47976.77282634723,47986.758095092584,47994.685057419294,48015.451299365035,47979.102913165465,47994.494396643866,47990.23192227314,47984.77556506474,48000.48560434432,48007.50880098469,47982.40765407311,47968.8389872174,47981.73695542474,47994.66766241759,48003.89304258516,47990.46221111103,47984.01465930284,47987.021456344766,47997.25554643008,48007.25746587809,47997.31967805616,48004.943279784384,48013.38082053048,47999.48496702683,48001.5426289008,47987.1612287532,47963.97974026542],\"type\":\"scatter\"}],                        {\"template\":{\"data\":{\"histogram2dcontour\":[{\"type\":\"histogram2dcontour\",\"colorbar\":{\"outlinewidth\":0,\"ticks\":\"\"},\"colorscale\":[[0.0,\"#0d0887\"],[0.1111111111111111,\"#46039f\"],[0.2222222222222222,\"#7201a8\"],[0.3333333333333333,\"#9c179e\"],[0.4444444444444444,\"#bd3786\"],[0.5555555555555556,\"#d8576b\"],[0.6666666666666666,\"#ed7953\"],[0.7777777777777778,\"#fb9f3a\"],[0.8888888888888888,\"#fdca26\"],[1.0,\"#f0f921\"]]}],\"choropleth\":[{\"type\":\"choropleth\",\"colorbar\":{\"outlinewidth\":0,\"ticks\":\"\"}}],\"histogram2d\":[{\"type\":\"histogram2d\",\"colorbar\":{\"outlinewidth\":0,\"ticks\":\"\"},\"colorscale\":[[0.0,\"#0d0887\"],[0.1111111111111111,\"#46039f\"],[0.2222222222222222,\"#7201a8\"],[0.3333333333333333,\"#9c179e\"],[0.4444444444444444,\"#bd3786\"],[0.5555555555555556,\"#d8576b\"],[0.6666666666666666,\"#ed7953\"],[0.7777777777777778,\"#fb9f3a\"],[0.8888888888888888,\"#fdca26\"],[1.0,\"#f0f921\"]]}],\"heatmap\":[{\"type\":\"heatmap\",\"colorbar\":{\"outlinewidth\":0,\"ticks\":\"\"},\"colorscale\":[[0.0,\"#0d0887\"],[0.1111111111111111,\"#46039f\"],[0.2222222222222222,\"#7201a8\"],[0.3333333333333333,\"#9c179e\"],[0.4444444444444444,\"#bd3786\"],[0.5555555555555556,\"#d8576b\"],[0.6666666666666666,\"#ed7953\"],[0.7777777777777778,\"#fb9f3a\"],[0.8888888888888888,\"#fdca26\"],[1.0,\"#f0f921\"]]}],\"heatmapgl\":[{\"type\":\"heatmapgl\",\"colorbar\":{\"outlinewidth\":0,\"ticks\":\"\"},\"colorscale\":[[0.0,\"#0d0887\"],[0.1111111111111111,\"#46039f\"],[0.2222222222222222,\"#7201a8\"],[0.3333333333333333,\"#9c179e\"],[0.4444444444444444,\"#bd3786\"],[0.5555555555555556,\"#d8576b\"],[0.6666666666666666,\"#ed7953\"],[0.7777777777777778,\"#fb9f3a\"],[0.8888888888888888,\"#fdca26\"],[1.0,\"#f0f921\"]]}],\"contourcarpet\":[{\"type\":\"contourcarpet\",\"colorbar\":{\"outlinewidth\":0,\"ticks\":\"\"}}],\"contour\":[{\"type\":\"contour\",\"colorbar\":{\"outlinewidth\":0,\"ticks\":\"\"},\"colorscale\":[[0.0,\"#0d0887\"],[0.1111111111111111,\"#46039f\"],[0.2222222222222222,\"#7201a8\"],[0.3333333333333333,\"#9c179e\"],[0.4444444444444444,\"#bd3786\"],[0.5555555555555556,\"#d8576b\"],[0.6666666666666666,\"#ed7953\"],[0.7777777777777778,\"#fb9f3a\"],[0.8888888888888888,\"#fdca26\"],[1.0,\"#f0f921\"]]}],\"surface\":[{\"type\":\"surface\",\"colorbar\":{\"outlinewidth\":0,\"ticks\":\"\"},\"colorscale\":[[0.0,\"#0d0887\"],[0.1111111111111111,\"#46039f\"],[0.2222222222222222,\"#7201a8\"],[0.3333333333333333,\"#9c179e\"],[0.4444444444444444,\"#bd3786\"],[0.5555555555555556,\"#d8576b\"],[0.6666666666666666,\"#ed7953\"],[0.7777777777777778,\"#fb9f3a\"],[0.8888888888888888,\"#fdca26\"],[1.0,\"#f0f921\"]]}],\"mesh3d\":[{\"type\":\"mesh3d\",\"colorbar\":{\"outlinewidth\":0,\"ticks\":\"\"}}],\"scatter\":[{\"fillpattern\":{\"fillmode\":\"overlay\",\"size\":10,\"solidity\":0.2},\"type\":\"scatter\"}],\"parcoords\":[{\"type\":\"parcoords\",\"line\":{\"colorbar\":{\"outlinewidth\":0,\"ticks\":\"\"}}}],\"scatterpolargl\":[{\"type\":\"scatterpolargl\",\"marker\":{\"colorbar\":{\"outlinewidth\":0,\"ticks\":\"\"}}}],\"bar\":[{\"error_x\":{\"color\":\"#2a3f5f\"},\"error_y\":{\"color\":\"#2a3f5f\"},\"marker\":{\"line\":{\"color\":\"#E5ECF6\",\"width\":0.5},\"pattern\":{\"fillmode\":\"overlay\",\"size\":10,\"solidity\":0.2}},\"type\":\"bar\"}],\"scattergeo\":[{\"type\":\"scattergeo\",\"marker\":{\"colorbar\":{\"outlinewidth\":0,\"ticks\":\"\"}}}],\"scatterpolar\":[{\"type\":\"scatterpolar\",\"marker\":{\"colorbar\":{\"outlinewidth\":0,\"ticks\":\"\"}}}],\"histogram\":[{\"marker\":{\"pattern\":{\"fillmode\":\"overlay\",\"size\":10,\"solidity\":0.2}},\"type\":\"histogram\"}],\"scattergl\":[{\"type\":\"scattergl\",\"marker\":{\"colorbar\":{\"outlinewidth\":0,\"ticks\":\"\"}}}],\"scatter3d\":[{\"type\":\"scatter3d\",\"line\":{\"colorbar\":{\"outlinewidth\":0,\"ticks\":\"\"}},\"marker\":{\"colorbar\":{\"outlinewidth\":0,\"ticks\":\"\"}}}],\"scattermapbox\":[{\"type\":\"scattermapbox\",\"marker\":{\"colorbar\":{\"outlinewidth\":0,\"ticks\":\"\"}}}],\"scatterternary\":[{\"type\":\"scatterternary\",\"marker\":{\"colorbar\":{\"outlinewidth\":0,\"ticks\":\"\"}}}],\"scattercarpet\":[{\"type\":\"scattercarpet\",\"marker\":{\"colorbar\":{\"outlinewidth\":0,\"ticks\":\"\"}}}],\"carpet\":[{\"aaxis\":{\"endlinecolor\":\"#2a3f5f\",\"gridcolor\":\"white\",\"linecolor\":\"white\",\"minorgridcolor\":\"white\",\"startlinecolor\":\"#2a3f5f\"},\"baxis\":{\"endlinecolor\":\"#2a3f5f\",\"gridcolor\":\"white\",\"linecolor\":\"white\",\"minorgridcolor\":\"white\",\"startlinecolor\":\"#2a3f5f\"},\"type\":\"carpet\"}],\"table\":[{\"cells\":{\"fill\":{\"color\":\"#EBF0F8\"},\"line\":{\"color\":\"white\"}},\"header\":{\"fill\":{\"color\":\"#C8D4E3\"},\"line\":{\"color\":\"white\"}},\"type\":\"table\"}],\"barpolar\":[{\"marker\":{\"line\":{\"color\":\"#E5ECF6\",\"width\":0.5},\"pattern\":{\"fillmode\":\"overlay\",\"size\":10,\"solidity\":0.2}},\"type\":\"barpolar\"}],\"pie\":[{\"automargin\":true,\"type\":\"pie\"}]},\"layout\":{\"autotypenumbers\":\"strict\",\"colorway\":[\"#636efa\",\"#EF553B\",\"#00cc96\",\"#ab63fa\",\"#FFA15A\",\"#19d3f3\",\"#FF6692\",\"#B6E880\",\"#FF97FF\",\"#FECB52\"],\"font\":{\"color\":\"#2a3f5f\"},\"hovermode\":\"closest\",\"hoverlabel\":{\"align\":\"left\"},\"paper_bgcolor\":\"white\",\"plot_bgcolor\":\"#E5ECF6\",\"polar\":{\"bgcolor\":\"#E5ECF6\",\"angularaxis\":{\"gridcolor\":\"white\",\"linecolor\":\"white\",\"ticks\":\"\"},\"radialaxis\":{\"gridcolor\":\"white\",\"linecolor\":\"white\",\"ticks\":\"\"}},\"ternary\":{\"bgcolor\":\"#E5ECF6\",\"aaxis\":{\"gridcolor\":\"white\",\"linecolor\":\"white\",\"ticks\":\"\"},\"baxis\":{\"gridcolor\":\"white\",\"linecolor\":\"white\",\"ticks\":\"\"},\"caxis\":{\"gridcolor\":\"white\",\"linecolor\":\"white\",\"ticks\":\"\"}},\"coloraxis\":{\"colorbar\":{\"outlinewidth\":0,\"ticks\":\"\"}},\"colorscale\":{\"sequential\":[[0.0,\"#0d0887\"],[0.1111111111111111,\"#46039f\"],[0.2222222222222222,\"#7201a8\"],[0.3333333333333333,\"#9c179e\"],[0.4444444444444444,\"#bd3786\"],[0.5555555555555556,\"#d8576b\"],[0.6666666666666666,\"#ed7953\"],[0.7777777777777778,\"#fb9f3a\"],[0.8888888888888888,\"#fdca26\"],[1.0,\"#f0f921\"]],\"sequentialminus\":[[0.0,\"#0d0887\"],[0.1111111111111111,\"#46039f\"],[0.2222222222222222,\"#7201a8\"],[0.3333333333333333,\"#9c179e\"],[0.4444444444444444,\"#bd3786\"],[0.5555555555555556,\"#d8576b\"],[0.6666666666666666,\"#ed7953\"],[0.7777777777777778,\"#fb9f3a\"],[0.8888888888888888,\"#fdca26\"],[1.0,\"#f0f921\"]],\"diverging\":[[0,\"#8e0152\"],[0.1,\"#c51b7d\"],[0.2,\"#de77ae\"],[0.3,\"#f1b6da\"],[0.4,\"#fde0ef\"],[0.5,\"#f7f7f7\"],[0.6,\"#e6f5d0\"],[0.7,\"#b8e186\"],[0.8,\"#7fbc41\"],[0.9,\"#4d9221\"],[1,\"#276419\"]]},\"xaxis\":{\"gridcolor\":\"white\",\"linecolor\":\"white\",\"ticks\":\"\",\"title\":{\"standoff\":15},\"zerolinecolor\":\"white\",\"automargin\":true,\"zerolinewidth\":2},\"yaxis\":{\"gridcolor\":\"white\",\"linecolor\":\"white\",\"ticks\":\"\",\"title\":{\"standoff\":15},\"zerolinecolor\":\"white\",\"automargin\":true,\"zerolinewidth\":2},\"scene\":{\"xaxis\":{\"backgroundcolor\":\"#E5ECF6\",\"gridcolor\":\"white\",\"linecolor\":\"white\",\"showbackground\":true,\"ticks\":\"\",\"zerolinecolor\":\"white\",\"gridwidth\":2},\"yaxis\":{\"backgroundcolor\":\"#E5ECF6\",\"gridcolor\":\"white\",\"linecolor\":\"white\",\"showbackground\":true,\"ticks\":\"\",\"zerolinecolor\":\"white\",\"gridwidth\":2},\"zaxis\":{\"backgroundcolor\":\"#E5ECF6\",\"gridcolor\":\"white\",\"linecolor\":\"white\",\"showbackground\":true,\"ticks\":\"\",\"zerolinecolor\":\"white\",\"gridwidth\":2}},\"shapedefaults\":{\"line\":{\"color\":\"#2a3f5f\"}},\"annotationdefaults\":{\"arrowcolor\":\"#2a3f5f\",\"arrowhead\":0,\"arrowwidth\":1},\"geo\":{\"bgcolor\":\"white\",\"landcolor\":\"#E5ECF6\",\"subunitcolor\":\"white\",\"showland\":true,\"showlakes\":true,\"lakecolor\":\"white\"},\"title\":{\"x\":0.05},\"mapbox\":{\"style\":\"light\"}}},\"title\":{\"text\":\"Line Chart for PAST and FUTURE Trend\"},\"xaxis\":{\"title\":{\"text\":\"Time\"}},\"yaxis\":{\"title\":{\"text\":\"Close Price\"},\"tickformat\":\".2f\"}},                        {\"responsive\": true}                    ).then(function(){\n",
              "                            \n",
              "var gd = document.getElementById('649101c7-dcda-4c43-8f9d-17c79ce03cae');\n",
              "var x = new MutationObserver(function (mutations, observer) {{\n",
              "        var display = window.getComputedStyle(gd).display;\n",
              "        if (!display || display === 'none') {{\n",
              "            console.log([gd, 'removed!']);\n",
              "            Plotly.purge(gd);\n",
              "            observer.disconnect();\n",
              "        }}\n",
              "}});\n",
              "\n",
              "// Listen for the removal of the full notebook cells\n",
              "var notebookContainer = gd.closest('#notebook-container');\n",
              "if (notebookContainer) {{\n",
              "    x.observe(notebookContainer, {childList: true});\n",
              "}}\n",
              "\n",
              "// Listen for the clearing of the current output cell\n",
              "var outputEl = gd.closest('.output');\n",
              "if (outputEl) {{\n",
              "    x.observe(outputEl, {childList: true});\n",
              "}}\n",
              "\n",
              "                        })                };                            </script>        </div>\n",
              "</body>\n",
              "</html>"
            ]
          },
          "metadata": {}
        }
      ]
    },
    {
      "cell_type": "code",
      "source": [
        "s3.head_object(Bucket=bucket_name, Key=file_name)\n",
        "obj = s3.get_object(Bucket=bucket_name, Key=file_name)\n",
        "df = pd.read_csv(obj['Body'])\n",
        "df = df.reset_index(drop=True)\n",
        "df=df.sort_values(by='Datetime')\n",
        "df['Datetime'] = df['Datetime'].astype(str)\n",
        "df=df[df['Stock']=='RELIANCE.NS']\n",
        "df = df.rename(columns={'Prediction': 'Close'})\n",
        "end_date = datetime.now() + timedelta(days=1)\n",
        "end_date_str = end_date.strftime('%Y-%m-%d')\n",
        "start_date = end_date - timedelta(days=1)\n",
        "start_date_str = start_date.strftime('%Y-%m-%d')\n",
        "data = yf.download('RELIANCE.NS', interval='5m', start=start_date_str, end=end_date_str, progress=False)\n",
        "data = data[data['Volume'] != 0]\n",
        "data.index = data.index.tz_localize(None)\n",
        "data.reset_index(inplace=True)\n",
        "data=data[['Datetime','Close']]\n",
        "df=df[['Datetime','Close']]\n",
        "data['Flag']='PAST'\n",
        "df['Flag']='FUTURE'\n",
        "data['Datetime'] = pd.to_datetime(data['Datetime'])\n",
        "df['Datetime'] = pd.to_datetime(df['Datetime'], errors='coerce')\n",
        "final=pd.concat([data, df])\n",
        "current_date = datetime.now().date()#- timedelta(days=1)\n",
        "final_current_date = final[final['Datetime'].dt.date == current_date]\n",
        "final_current_date['Time'] = final_current_date['Datetime'].dt.time\n",
        "final_current_date.drop(columns=['Datetime'], inplace=True)\n",
        "fig = go.Figure()\n",
        "past_data = final_current_date[final_current_date['Flag'] == 'PAST']\n",
        "fig.add_trace(go.Scatter(x=past_data['Time'], y=past_data['Close'], mode='lines', name='PAST'))\n",
        "future_data = final_current_date[final_current_date['Flag'] == 'FUTURE']\n",
        "fig.add_trace(go.Scatter(x=future_data['Time'], y=future_data['Close'], mode='lines', name='FUTURE'))\n",
        "fig.update_layout(title='Line Chart for PAST and FUTURE Trend', xaxis_title='Time', yaxis_title='Close Price')\n",
        "fig.update_layout(\n",
        "    title='Line Chart for PAST and FUTURE Trend',\n",
        "    xaxis_title='Time',\n",
        "    yaxis_title='Close Price',\n",
        "    yaxis=dict(\n",
        "        tickformat='.2f'\n",
        "    )\n",
        ")\n",
        "fig.show()\n"
      ],
      "metadata": {
        "colab": {
          "base_uri": "https://localhost:8080/",
          "height": 542
        },
        "id": "Epy4BhI-pFLn",
        "outputId": "31658d7c-2544-4072-eb63-3cea1f7b93a8"
      },
      "execution_count": null,
      "outputs": [
        {
          "output_type": "display_data",
          "data": {
            "text/html": [
              "<html>\n",
              "<head><meta charset=\"utf-8\" /></head>\n",
              "<body>\n",
              "    <div>            <script src=\"https://cdnjs.cloudflare.com/ajax/libs/mathjax/2.7.5/MathJax.js?config=TeX-AMS-MML_SVG\"></script><script type=\"text/javascript\">if (window.MathJax && window.MathJax.Hub && window.MathJax.Hub.Config) {window.MathJax.Hub.Config({SVG: {font: \"STIX-Web\"}});}</script>                <script type=\"text/javascript\">window.PlotlyConfig = {MathJaxConfig: 'local'};</script>\n",
              "        <script charset=\"utf-8\" src=\"https://cdn.plot.ly/plotly-2.24.1.min.js\"></script>                <div id=\"34df1942-952c-41db-936c-286043f158c2\" class=\"plotly-graph-div\" style=\"height:525px; width:100%;\"></div>            <script type=\"text/javascript\">                                    window.PLOTLYENV=window.PLOTLYENV || {};                                    if (document.getElementById(\"34df1942-952c-41db-936c-286043f158c2\")) {                    Plotly.newPlot(                        \"34df1942-952c-41db-936c-286043f158c2\",                        [{\"mode\":\"lines\",\"name\":\"PAST\",\"x\":[\"09:15:00\",\"09:20:00\",\"09:25:00\",\"09:30:00\",\"09:35:00\",\"09:40:00\",\"09:45:00\",\"09:50:00\",\"09:55:00\",\"10:00:00\",\"10:05:00\",\"10:10:00\",\"10:15:00\",\"10:20:00\",\"10:25:00\",\"10:30:00\",\"10:35:00\",\"10:40:00\",\"10:45:00\",\"10:50:00\",\"10:55:00\",\"11:00:00\",\"11:05:00\",\"11:10:00\",\"11:15:00\",\"11:20:00\",\"11:25:00\",\"11:30:00\",\"11:35:00\",\"11:40:00\",\"11:45:00\",\"11:50:00\",\"11:55:00\",\"12:00:00\",\"12:05:00\",\"12:10:00\",\"12:15:00\",\"12:20:00\",\"12:25:00\",\"12:30:00\",\"12:35:00\",\"12:40:00\",\"12:45:00\",\"12:50:00\",\"12:55:00\",\"13:00:00\",\"13:05:00\",\"13:10:00\",\"13:15:00\",\"13:20:00\",\"13:25:00\",\"13:30:00\",\"13:35:00\",\"13:40:00\",\"13:45:00\",\"13:50:00\",\"13:55:00\",\"14:00:00\",\"14:05:00\",\"14:10:00\",\"14:15:00\",\"14:20:00\",\"14:25:00\",\"14:30:00\",\"14:35:00\",\"14:40:00\",\"14:45:00\",\"14:50:00\",\"14:55:00\",\"15:00:00\",\"15:05:00\",\"15:10:00\",\"15:15:00\",\"15:20:00\",\"15:25:00\"],\"y\":[2983.0,2970.0,2960.89990234375,2955.5,2954.85009765625,2954.050048828125,2951.64990234375,2957.0,2962.64990234375,2965.0,2967.699951171875,2966.25,2967.699951171875,2962.550048828125,2958.949951171875,2958.550048828125,2958.449951171875,2954.0,2948.949951171875,2952.14990234375,2952.0,2941.35009765625,2938.5,2938.449951171875,2939.0,2936.0,2939.35009765625,2935.699951171875,2932.949951171875,2933.949951171875,2939.5,2942.949951171875,2942.449951171875,2943.89990234375,2944.39990234375,2944.89990234375,2945.699951171875,2945.85009765625,2942.699951171875,2941.64990234375,2941.0,2937.85009765625,2940.5,2941.0,2938.699951171875,2936.85009765625,2932.14990234375,2935.25,2929.10009765625,2928.35009765625,2932.800048828125,2933.5,2933.39990234375,2932.300048828125,2934.449951171875,2934.0,2933.550048828125,2939.5,2934.5,2938.199951171875,2937.699951171875,2935.0,2932.89990234375,2932.0,2932.699951171875,2930.699951171875,2933.0,2929.75,2929.300048828125,2921.949951171875,2922.0,2917.85009765625,2915.550048828125,2914.75,2919.39990234375],\"type\":\"scatter\"},{\"mode\":\"lines\",\"name\":\"FUTURE\",\"x\":[\"11:35:00\",\"11:40:00\",\"11:45:00\",\"11:50:00\",\"11:55:00\",\"12:00:00\",\"12:05:00\",\"12:10:00\",\"12:15:00\",\"12:20:00\",\"12:25:00\",\"12:30:00\",\"12:35:00\",\"12:40:00\",\"12:45:00\",\"12:50:00\",\"12:55:00\",\"13:00:00\",\"13:05:00\",\"13:10:00\",\"13:15:00\",\"13:20:00\",\"13:25:00\",\"13:30:00\",\"13:35:00\",\"13:40:00\",\"13:45:00\",\"13:50:00\",\"13:55:00\",\"14:00:00\",\"14:05:00\",\"14:10:00\",\"14:15:00\",\"14:20:00\",\"14:25:00\",\"14:30:00\",\"14:35:00\",\"14:40:00\",\"14:45:00\",\"14:50:00\",\"14:55:00\",\"15:00:00\",\"15:05:00\",\"15:10:00\",\"15:15:00\",\"15:20:00\",\"15:25:00\",\"15:30:00\"],\"y\":[2940.02798828125,2940.916501464844,2934.019440917969,2937.0764892578127,2940.5614770507814,2940.1709814453125,2939.809975585937,2941.874001464844,2940.64951171875,2940.2205053710936,2943.008532714844,2944.074973144531,2942.749951171875,2943.45546875,2940.4930126953127,2941.982492675781,2940.183498535156,2939.430498046875,2938.206010742188,2936.881987304688,2935.4774658203123,2934.971962890625,2931.085017089844,2932.140549316406,2931.284978027344,2932.742976074219,2931.28197265625,2930.6750341796874,2932.077998046875,2932.192001953125,2933.267534179688,2935.9409814453124,2936.31748046875,2936.2369799804687,2937.059963378906,2933.8024975585936,2934.3979736328124,2934.365983886719,2933.062990722656,2932.546513671875,2931.2824829101564,2931.2009814453127,2927.939006347656,2926.081005859375,2923.904030761719,2923.5575390625,2919.8744677734376,2925.306491699219],\"type\":\"scatter\"}],                        {\"template\":{\"data\":{\"histogram2dcontour\":[{\"type\":\"histogram2dcontour\",\"colorbar\":{\"outlinewidth\":0,\"ticks\":\"\"},\"colorscale\":[[0.0,\"#0d0887\"],[0.1111111111111111,\"#46039f\"],[0.2222222222222222,\"#7201a8\"],[0.3333333333333333,\"#9c179e\"],[0.4444444444444444,\"#bd3786\"],[0.5555555555555556,\"#d8576b\"],[0.6666666666666666,\"#ed7953\"],[0.7777777777777778,\"#fb9f3a\"],[0.8888888888888888,\"#fdca26\"],[1.0,\"#f0f921\"]]}],\"choropleth\":[{\"type\":\"choropleth\",\"colorbar\":{\"outlinewidth\":0,\"ticks\":\"\"}}],\"histogram2d\":[{\"type\":\"histogram2d\",\"colorbar\":{\"outlinewidth\":0,\"ticks\":\"\"},\"colorscale\":[[0.0,\"#0d0887\"],[0.1111111111111111,\"#46039f\"],[0.2222222222222222,\"#7201a8\"],[0.3333333333333333,\"#9c179e\"],[0.4444444444444444,\"#bd3786\"],[0.5555555555555556,\"#d8576b\"],[0.6666666666666666,\"#ed7953\"],[0.7777777777777778,\"#fb9f3a\"],[0.8888888888888888,\"#fdca26\"],[1.0,\"#f0f921\"]]}],\"heatmap\":[{\"type\":\"heatmap\",\"colorbar\":{\"outlinewidth\":0,\"ticks\":\"\"},\"colorscale\":[[0.0,\"#0d0887\"],[0.1111111111111111,\"#46039f\"],[0.2222222222222222,\"#7201a8\"],[0.3333333333333333,\"#9c179e\"],[0.4444444444444444,\"#bd3786\"],[0.5555555555555556,\"#d8576b\"],[0.6666666666666666,\"#ed7953\"],[0.7777777777777778,\"#fb9f3a\"],[0.8888888888888888,\"#fdca26\"],[1.0,\"#f0f921\"]]}],\"heatmapgl\":[{\"type\":\"heatmapgl\",\"colorbar\":{\"outlinewidth\":0,\"ticks\":\"\"},\"colorscale\":[[0.0,\"#0d0887\"],[0.1111111111111111,\"#46039f\"],[0.2222222222222222,\"#7201a8\"],[0.3333333333333333,\"#9c179e\"],[0.4444444444444444,\"#bd3786\"],[0.5555555555555556,\"#d8576b\"],[0.6666666666666666,\"#ed7953\"],[0.7777777777777778,\"#fb9f3a\"],[0.8888888888888888,\"#fdca26\"],[1.0,\"#f0f921\"]]}],\"contourcarpet\":[{\"type\":\"contourcarpet\",\"colorbar\":{\"outlinewidth\":0,\"ticks\":\"\"}}],\"contour\":[{\"type\":\"contour\",\"colorbar\":{\"outlinewidth\":0,\"ticks\":\"\"},\"colorscale\":[[0.0,\"#0d0887\"],[0.1111111111111111,\"#46039f\"],[0.2222222222222222,\"#7201a8\"],[0.3333333333333333,\"#9c179e\"],[0.4444444444444444,\"#bd3786\"],[0.5555555555555556,\"#d8576b\"],[0.6666666666666666,\"#ed7953\"],[0.7777777777777778,\"#fb9f3a\"],[0.8888888888888888,\"#fdca26\"],[1.0,\"#f0f921\"]]}],\"surface\":[{\"type\":\"surface\",\"colorbar\":{\"outlinewidth\":0,\"ticks\":\"\"},\"colorscale\":[[0.0,\"#0d0887\"],[0.1111111111111111,\"#46039f\"],[0.2222222222222222,\"#7201a8\"],[0.3333333333333333,\"#9c179e\"],[0.4444444444444444,\"#bd3786\"],[0.5555555555555556,\"#d8576b\"],[0.6666666666666666,\"#ed7953\"],[0.7777777777777778,\"#fb9f3a\"],[0.8888888888888888,\"#fdca26\"],[1.0,\"#f0f921\"]]}],\"mesh3d\":[{\"type\":\"mesh3d\",\"colorbar\":{\"outlinewidth\":0,\"ticks\":\"\"}}],\"scatter\":[{\"fillpattern\":{\"fillmode\":\"overlay\",\"size\":10,\"solidity\":0.2},\"type\":\"scatter\"}],\"parcoords\":[{\"type\":\"parcoords\",\"line\":{\"colorbar\":{\"outlinewidth\":0,\"ticks\":\"\"}}}],\"scatterpolargl\":[{\"type\":\"scatterpolargl\",\"marker\":{\"colorbar\":{\"outlinewidth\":0,\"ticks\":\"\"}}}],\"bar\":[{\"error_x\":{\"color\":\"#2a3f5f\"},\"error_y\":{\"color\":\"#2a3f5f\"},\"marker\":{\"line\":{\"color\":\"#E5ECF6\",\"width\":0.5},\"pattern\":{\"fillmode\":\"overlay\",\"size\":10,\"solidity\":0.2}},\"type\":\"bar\"}],\"scattergeo\":[{\"type\":\"scattergeo\",\"marker\":{\"colorbar\":{\"outlinewidth\":0,\"ticks\":\"\"}}}],\"scatterpolar\":[{\"type\":\"scatterpolar\",\"marker\":{\"colorbar\":{\"outlinewidth\":0,\"ticks\":\"\"}}}],\"histogram\":[{\"marker\":{\"pattern\":{\"fillmode\":\"overlay\",\"size\":10,\"solidity\":0.2}},\"type\":\"histogram\"}],\"scattergl\":[{\"type\":\"scattergl\",\"marker\":{\"colorbar\":{\"outlinewidth\":0,\"ticks\":\"\"}}}],\"scatter3d\":[{\"type\":\"scatter3d\",\"line\":{\"colorbar\":{\"outlinewidth\":0,\"ticks\":\"\"}},\"marker\":{\"colorbar\":{\"outlinewidth\":0,\"ticks\":\"\"}}}],\"scattermapbox\":[{\"type\":\"scattermapbox\",\"marker\":{\"colorbar\":{\"outlinewidth\":0,\"ticks\":\"\"}}}],\"scatterternary\":[{\"type\":\"scatterternary\",\"marker\":{\"colorbar\":{\"outlinewidth\":0,\"ticks\":\"\"}}}],\"scattercarpet\":[{\"type\":\"scattercarpet\",\"marker\":{\"colorbar\":{\"outlinewidth\":0,\"ticks\":\"\"}}}],\"carpet\":[{\"aaxis\":{\"endlinecolor\":\"#2a3f5f\",\"gridcolor\":\"white\",\"linecolor\":\"white\",\"minorgridcolor\":\"white\",\"startlinecolor\":\"#2a3f5f\"},\"baxis\":{\"endlinecolor\":\"#2a3f5f\",\"gridcolor\":\"white\",\"linecolor\":\"white\",\"minorgridcolor\":\"white\",\"startlinecolor\":\"#2a3f5f\"},\"type\":\"carpet\"}],\"table\":[{\"cells\":{\"fill\":{\"color\":\"#EBF0F8\"},\"line\":{\"color\":\"white\"}},\"header\":{\"fill\":{\"color\":\"#C8D4E3\"},\"line\":{\"color\":\"white\"}},\"type\":\"table\"}],\"barpolar\":[{\"marker\":{\"line\":{\"color\":\"#E5ECF6\",\"width\":0.5},\"pattern\":{\"fillmode\":\"overlay\",\"size\":10,\"solidity\":0.2}},\"type\":\"barpolar\"}],\"pie\":[{\"automargin\":true,\"type\":\"pie\"}]},\"layout\":{\"autotypenumbers\":\"strict\",\"colorway\":[\"#636efa\",\"#EF553B\",\"#00cc96\",\"#ab63fa\",\"#FFA15A\",\"#19d3f3\",\"#FF6692\",\"#B6E880\",\"#FF97FF\",\"#FECB52\"],\"font\":{\"color\":\"#2a3f5f\"},\"hovermode\":\"closest\",\"hoverlabel\":{\"align\":\"left\"},\"paper_bgcolor\":\"white\",\"plot_bgcolor\":\"#E5ECF6\",\"polar\":{\"bgcolor\":\"#E5ECF6\",\"angularaxis\":{\"gridcolor\":\"white\",\"linecolor\":\"white\",\"ticks\":\"\"},\"radialaxis\":{\"gridcolor\":\"white\",\"linecolor\":\"white\",\"ticks\":\"\"}},\"ternary\":{\"bgcolor\":\"#E5ECF6\",\"aaxis\":{\"gridcolor\":\"white\",\"linecolor\":\"white\",\"ticks\":\"\"},\"baxis\":{\"gridcolor\":\"white\",\"linecolor\":\"white\",\"ticks\":\"\"},\"caxis\":{\"gridcolor\":\"white\",\"linecolor\":\"white\",\"ticks\":\"\"}},\"coloraxis\":{\"colorbar\":{\"outlinewidth\":0,\"ticks\":\"\"}},\"colorscale\":{\"sequential\":[[0.0,\"#0d0887\"],[0.1111111111111111,\"#46039f\"],[0.2222222222222222,\"#7201a8\"],[0.3333333333333333,\"#9c179e\"],[0.4444444444444444,\"#bd3786\"],[0.5555555555555556,\"#d8576b\"],[0.6666666666666666,\"#ed7953\"],[0.7777777777777778,\"#fb9f3a\"],[0.8888888888888888,\"#fdca26\"],[1.0,\"#f0f921\"]],\"sequentialminus\":[[0.0,\"#0d0887\"],[0.1111111111111111,\"#46039f\"],[0.2222222222222222,\"#7201a8\"],[0.3333333333333333,\"#9c179e\"],[0.4444444444444444,\"#bd3786\"],[0.5555555555555556,\"#d8576b\"],[0.6666666666666666,\"#ed7953\"],[0.7777777777777778,\"#fb9f3a\"],[0.8888888888888888,\"#fdca26\"],[1.0,\"#f0f921\"]],\"diverging\":[[0,\"#8e0152\"],[0.1,\"#c51b7d\"],[0.2,\"#de77ae\"],[0.3,\"#f1b6da\"],[0.4,\"#fde0ef\"],[0.5,\"#f7f7f7\"],[0.6,\"#e6f5d0\"],[0.7,\"#b8e186\"],[0.8,\"#7fbc41\"],[0.9,\"#4d9221\"],[1,\"#276419\"]]},\"xaxis\":{\"gridcolor\":\"white\",\"linecolor\":\"white\",\"ticks\":\"\",\"title\":{\"standoff\":15},\"zerolinecolor\":\"white\",\"automargin\":true,\"zerolinewidth\":2},\"yaxis\":{\"gridcolor\":\"white\",\"linecolor\":\"white\",\"ticks\":\"\",\"title\":{\"standoff\":15},\"zerolinecolor\":\"white\",\"automargin\":true,\"zerolinewidth\":2},\"scene\":{\"xaxis\":{\"backgroundcolor\":\"#E5ECF6\",\"gridcolor\":\"white\",\"linecolor\":\"white\",\"showbackground\":true,\"ticks\":\"\",\"zerolinecolor\":\"white\",\"gridwidth\":2},\"yaxis\":{\"backgroundcolor\":\"#E5ECF6\",\"gridcolor\":\"white\",\"linecolor\":\"white\",\"showbackground\":true,\"ticks\":\"\",\"zerolinecolor\":\"white\",\"gridwidth\":2},\"zaxis\":{\"backgroundcolor\":\"#E5ECF6\",\"gridcolor\":\"white\",\"linecolor\":\"white\",\"showbackground\":true,\"ticks\":\"\",\"zerolinecolor\":\"white\",\"gridwidth\":2}},\"shapedefaults\":{\"line\":{\"color\":\"#2a3f5f\"}},\"annotationdefaults\":{\"arrowcolor\":\"#2a3f5f\",\"arrowhead\":0,\"arrowwidth\":1},\"geo\":{\"bgcolor\":\"white\",\"landcolor\":\"#E5ECF6\",\"subunitcolor\":\"white\",\"showland\":true,\"showlakes\":true,\"lakecolor\":\"white\"},\"title\":{\"x\":0.05},\"mapbox\":{\"style\":\"light\"}}},\"title\":{\"text\":\"Line Chart for PAST and FUTURE Trend\"},\"xaxis\":{\"title\":{\"text\":\"Time\"}},\"yaxis\":{\"title\":{\"text\":\"Close Price\"},\"tickformat\":\".2f\"}},                        {\"responsive\": true}                    ).then(function(){\n",
              "                            \n",
              "var gd = document.getElementById('34df1942-952c-41db-936c-286043f158c2');\n",
              "var x = new MutationObserver(function (mutations, observer) {{\n",
              "        var display = window.getComputedStyle(gd).display;\n",
              "        if (!display || display === 'none') {{\n",
              "            console.log([gd, 'removed!']);\n",
              "            Plotly.purge(gd);\n",
              "            observer.disconnect();\n",
              "        }}\n",
              "}});\n",
              "\n",
              "// Listen for the removal of the full notebook cells\n",
              "var notebookContainer = gd.closest('#notebook-container');\n",
              "if (notebookContainer) {{\n",
              "    x.observe(notebookContainer, {childList: true});\n",
              "}}\n",
              "\n",
              "// Listen for the clearing of the current output cell\n",
              "var outputEl = gd.closest('.output');\n",
              "if (outputEl) {{\n",
              "    x.observe(outputEl, {childList: true});\n",
              "}}\n",
              "\n",
              "                        })                };                            </script>        </div>\n",
              "</body>\n",
              "</html>"
            ]
          },
          "metadata": {}
        }
      ]
    },
    {
      "cell_type": "code",
      "source": [],
      "metadata": {
        "id": "2rZCWu5jZH_f"
      },
      "execution_count": null,
      "outputs": []
    }
  ]
}